{
 "cells": [
  {
   "metadata": {},
   "cell_type": "markdown",
   "source": "# Load from local package",
   "id": "917edb8eefedbc85"
  },
  {
   "metadata": {
    "ExecuteTime": {
     "end_time": "2024-10-05T07:58:16.817326Z",
     "start_time": "2024-10-05T07:58:16.779134Z"
    }
   },
   "cell_type": "code",
   "source": "from python_sdk.prompt_smith import PromptSmith",
   "id": "b956abe12c71a962",
   "outputs": [],
   "execution_count": 1
  },
  {
   "metadata": {
    "ExecuteTime": {
     "end_time": "2024-10-05T07:58:16.824562Z",
     "start_time": "2024-10-05T07:58:16.818437Z"
    }
   },
   "cell_type": "code",
   "source": [
    "# load dot env\n",
    "from dotenv import load_dotenv\n",
    "load_dotenv()"
   ],
   "id": "29bd843b79bee8aa",
   "outputs": [
    {
     "data": {
      "text/plain": [
       "True"
      ]
     },
     "execution_count": 2,
     "metadata": {},
     "output_type": "execute_result"
    }
   ],
   "execution_count": 2
  },
  {
   "metadata": {
    "ExecuteTime": {
     "end_time": "2024-10-05T07:58:16.827108Z",
     "start_time": "2024-10-05T07:58:16.825303Z"
    }
   },
   "cell_type": "code",
   "source": [
    "import os \n",
    "\n",
    "key = os.getenv(\"API_KEY\")\n",
    "url = 'http://localhost:8000'\n"
   ],
   "id": "ab2ba56320afb580",
   "outputs": [],
   "execution_count": 3
  },
  {
   "metadata": {
    "ExecuteTime": {
     "end_time": "2024-10-05T07:58:16.829636Z",
     "start_time": "2024-10-05T07:58:16.828243Z"
    }
   },
   "cell_type": "code",
   "source": [
    "# init prompt_smith client\n",
    "prompt_smith = PromptSmith(url, key)"
   ],
   "id": "ebb52a9b2a94afd4",
   "outputs": [],
   "execution_count": 4
  },
  {
   "metadata": {
    "ExecuteTime": {
     "end_time": "2024-10-05T07:58:34.026671Z",
     "start_time": "2024-10-05T07:58:19.950456Z"
    }
   },
   "cell_type": "code",
   "source": [
    "# get prompt\n",
    "resp = prompt_smith.get_prompt('asdr')\n",
    "print(resp)"
   ],
   "id": "2cbe5732acaa4278",
   "outputs": [
    {
     "name": "stdout",
     "output_type": "stream",
     "text": [
      "{'unique_key': 'asdr', 'description': 'fdjfjhfhjgdhj', 'name': 'A-2024-10-01T09:24:20.268Z', 'llm_model_name': None, 'percentage': 100.0, 'uuid': '07c21f07-78dd-4957-b2ec-05f9583f0f0b', 'content': 'As well, who are you'}\n"
     ]
    }
   ],
   "execution_count": 5
  },
  {
   "metadata": {},
   "cell_type": "code",
   "outputs": [],
   "execution_count": null,
   "source": "",
   "id": "82279876efde7c33"
  }
 ],
 "metadata": {
  "kernelspec": {
   "display_name": "Python 3",
   "language": "python",
   "name": "python3"
  },
  "language_info": {
   "codemirror_mode": {
    "name": "ipython",
    "version": 2
   },
   "file_extension": ".py",
   "mimetype": "text/x-python",
   "name": "python",
   "nbconvert_exporter": "python",
   "pygments_lexer": "ipython2",
   "version": "2.7.6"
  }
 },
 "nbformat": 4,
 "nbformat_minor": 5
}
