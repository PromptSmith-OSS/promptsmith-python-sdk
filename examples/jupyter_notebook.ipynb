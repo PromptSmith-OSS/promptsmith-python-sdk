{
 "cells": [
  {
   "metadata": {},
   "cell_type": "markdown",
   "source": "# Load from local package",
   "id": "917edb8eefedbc85"
  },
  {
   "metadata": {
    "ExecuteTime": {
     "end_time": "2024-10-06T04:46:13.743316Z",
     "start_time": "2024-10-06T04:46:13.649658Z"
    }
   },
   "cell_type": "code",
   "source": "from promtsmithsdk.prompt_smith import PromptSmith",
   "id": "b956abe12c71a962",
   "outputs": [],
   "execution_count": 1
  },
  {
   "metadata": {
    "ExecuteTime": {
     "end_time": "2024-10-06T04:46:13.750802Z",
     "start_time": "2024-10-06T04:46:13.744237Z"
    }
   },
   "cell_type": "code",
   "source": [
    "# load dot env\n",
    "from dotenv import load_dotenv\n",
    "load_dotenv()"
   ],
   "id": "29bd843b79bee8aa",
   "outputs": [
    {
     "data": {
      "text/plain": [
       "True"
      ]
     },
     "execution_count": 2,
     "metadata": {},
     "output_type": "execute_result"
    }
   ],
   "execution_count": 2
  },
  {
   "metadata": {
    "ExecuteTime": {
     "end_time": "2024-10-06T04:46:13.860512Z",
     "start_time": "2024-10-06T04:46:13.858621Z"
    }
   },
   "cell_type": "code",
   "source": [
    "import os \n",
    "\n",
    "key = os.getenv(\"API_KEY\")\n",
    "url = 'http://localhost:8000'\n"
   ],
   "id": "ab2ba56320afb580",
   "outputs": [],
   "execution_count": 3
  },
  {
   "metadata": {
    "ExecuteTime": {
     "end_time": "2024-10-06T04:46:14.066104Z",
     "start_time": "2024-10-06T04:46:14.053783Z"
    }
   },
   "cell_type": "code",
   "source": [
    "# init prompt_smith client\n",
    "prompt_smith = PromptSmith(url, key)"
   ],
   "id": "ebb52a9b2a94afd4",
   "outputs": [],
   "execution_count": 4
  },
  {
   "metadata": {
    "ExecuteTime": {
     "end_time": "2024-10-06T04:46:14.622559Z",
     "start_time": "2024-10-06T04:46:14.530332Z"
    }
   },
   "cell_type": "code",
   "source": [
    "# get prompt\n",
    "resp = prompt_smith.get_prompt('asdr')\n",
    "print(resp)"
   ],
   "id": "2cbe5732acaa4278",
   "outputs": [
    {
     "name": "stdout",
     "output_type": "stream",
     "text": [
      "{'unique_key': 'asdr', 'description': 'fdjfjhfhjgdhj', 'name': 'A-2024-10-01T09:24:20.268Z', 'llm_model_name': None, 'percentage': 100.0, 'uuid': '07c21f07-78dd-4957-b2ec-05f9583f0f0b', 'content': 'As well, who are you'}\n"
     ]
    }
   ],
   "execution_count": 5
  },
  {
   "metadata": {
    "ExecuteTime": {
     "end_time": "2024-10-06T04:51:00.243577Z",
     "start_time": "2024-10-06T04:51:00.192670Z"
    }
   },
   "cell_type": "code",
   "source": [
    "async def aget_prompt():\n",
    "    # Assuming prompt_smith.get_prompt_async is an async function\n",
    "    resp = await prompt_smith.get_prompt_async('asdr')\n",
    "    return resp  # Returning the result instead of printing inside the function\n",
    "\n",
    "# Running the async function and printing the result\n",
    "result = aget_prompt()\n",
    "print(result)\n"
   ],
   "id": "82279876efde7c33",
   "outputs": [
    {
     "name": "stderr",
     "output_type": "stream",
     "text": [
      "<frozen genericpath>:89: RuntimeWarning: coroutine 'aget_prompt' was never awaited\n",
      "RuntimeWarning: Enable tracemalloc to get the object allocation traceback\n"
     ]
    },
    {
     "ename": "RuntimeError",
     "evalue": "Task got bad yield: <Deferred at 0x1048fac00>",
     "output_type": "error",
     "traceback": [
      "\u001B[0;31m---------------------------------------------------------------------------\u001B[0m",
      "\u001B[0;31mRuntimeError\u001B[0m                              Traceback (most recent call last)",
      "Cell \u001B[0;32mIn[12], line 7\u001B[0m\n\u001B[1;32m      4\u001B[0m     \u001B[38;5;28;01mreturn\u001B[39;00m resp  \u001B[38;5;66;03m# Returning the result instead of printing inside the function\u001B[39;00m\n\u001B[1;32m      6\u001B[0m \u001B[38;5;66;03m# Running the async function and printing the result\u001B[39;00m\n\u001B[0;32m----> 7\u001B[0m result \u001B[38;5;241m=\u001B[39m \u001B[38;5;28;01mawait\u001B[39;00m aget_prompt()\n\u001B[1;32m      8\u001B[0m \u001B[38;5;28mprint\u001B[39m(result)\n",
      "Cell \u001B[0;32mIn[12], line 3\u001B[0m, in \u001B[0;36maget_prompt\u001B[0;34m()\u001B[0m\n\u001B[1;32m      1\u001B[0m \u001B[38;5;28;01masync\u001B[39;00m \u001B[38;5;28;01mdef\u001B[39;00m \u001B[38;5;21maget_prompt\u001B[39m():\n\u001B[1;32m      2\u001B[0m     \u001B[38;5;66;03m# Assuming prompt_smith.get_prompt_async is an async function\u001B[39;00m\n\u001B[0;32m----> 3\u001B[0m     resp \u001B[38;5;241m=\u001B[39m \u001B[38;5;28;01mawait\u001B[39;00m prompt_smith\u001B[38;5;241m.\u001B[39mget_prompt_async(\u001B[38;5;124m'\u001B[39m\u001B[38;5;124masdr\u001B[39m\u001B[38;5;124m'\u001B[39m)\n\u001B[1;32m      4\u001B[0m     \u001B[38;5;28;01mreturn\u001B[39;00m resp\n",
      "File \u001B[0;32m~/Development/promptsmith-python-sdk/promtsmithsdk/prompt_smith.py:61\u001B[0m, in \u001B[0;36mPromptSmith.get_prompt_async\u001B[0;34m(self, unique_key)\u001B[0m\n\u001B[1;32m     56\u001B[0m url \u001B[38;5;241m=\u001B[39m \u001B[38;5;124mf\u001B[39m\u001B[38;5;124m\"\u001B[39m\u001B[38;5;132;01m{\u001B[39;00m\u001B[38;5;28mself\u001B[39m\u001B[38;5;241m.\u001B[39mbase_url\u001B[38;5;132;01m}\u001B[39;00m\u001B[38;5;124m/api/sdk/prompt/\u001B[39m\u001B[38;5;132;01m{\u001B[39;00munique_key\u001B[38;5;132;01m}\u001B[39;00m\u001B[38;5;124m\"\u001B[39m\n\u001B[1;32m     57\u001B[0m headers \u001B[38;5;241m=\u001B[39m {\n\u001B[1;32m     58\u001B[0m     \u001B[38;5;124m\"\u001B[39m\u001B[38;5;124mAuthorization\u001B[39m\u001B[38;5;124m\"\u001B[39m: \u001B[38;5;124mf\u001B[39m\u001B[38;5;124m\"\u001B[39m\u001B[38;5;124mBearer \u001B[39m\u001B[38;5;132;01m{\u001B[39;00m\u001B[38;5;28mself\u001B[39m\u001B[38;5;241m.\u001B[39mapi_key\u001B[38;5;132;01m}\u001B[39;00m\u001B[38;5;124m\"\u001B[39m,\n\u001B[1;32m     59\u001B[0m     \u001B[38;5;124m\"\u001B[39m\u001B[38;5;124mContent-Type\u001B[39m\u001B[38;5;124m\"\u001B[39m: \u001B[38;5;124m\"\u001B[39m\u001B[38;5;124mapplication/json\u001B[39m\u001B[38;5;124m\"\u001B[39m,\n\u001B[1;32m     60\u001B[0m }\n\u001B[0;32m---> 61\u001B[0m response \u001B[38;5;241m=\u001B[39m \u001B[38;5;28;01mawait\u001B[39;00m \u001B[38;5;28mself\u001B[39m\u001B[38;5;241m.\u001B[39masync_session\u001B[38;5;241m.\u001B[39mget(url, headers\u001B[38;5;241m=\u001B[39mheaders)\n\u001B[1;32m     62\u001B[0m \u001B[38;5;28;01mif\u001B[39;00m response\u001B[38;5;241m.\u001B[39mstatus_code \u001B[38;5;241m==\u001B[39m \u001B[38;5;241m200\u001B[39m:\n\u001B[1;32m     63\u001B[0m     result \u001B[38;5;241m=\u001B[39m response\u001B[38;5;241m.\u001B[39mjson()\n",
      "\u001B[0;31mRuntimeError\u001B[0m: Task got bad yield: <Deferred at 0x1048fac00>"
     ]
    }
   ],
   "execution_count": 12
  },
  {
   "metadata": {},
   "cell_type": "code",
   "outputs": [],
   "execution_count": null,
   "source": "",
   "id": "599221e70a0a40cb"
  }
 ],
 "metadata": {
  "kernelspec": {
   "display_name": "Python 3",
   "language": "python",
   "name": "python3"
  },
  "language_info": {
   "codemirror_mode": {
    "name": "ipython",
    "version": 2
   },
   "file_extension": ".py",
   "mimetype": "text/x-python",
   "name": "python",
   "nbconvert_exporter": "python",
   "pygments_lexer": "ipython2",
   "version": "2.7.6"
  }
 },
 "nbformat": 4,
 "nbformat_minor": 5
}
